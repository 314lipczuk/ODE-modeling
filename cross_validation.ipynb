{
 "cells": [
  {
   "cell_type": "markdown",
   "id": "ef3f7116",
   "metadata": {},
   "source": [
    "# CrossValidation\n",
    "\n",
    "INPUT: parameter set, either:\n",
    "  - a file with parameters\n",
    "  - setting to generate a uniformly distributed set\n",
    "\n",
    "\n",
    "\n",
    "fit 3 experiments using the parameters we have.\n",
    "\n",
    "sanity check: plotting fit for each against the data it was trained on.\n",
    "\n",
    "then: train part 2\n",
    "\n",
    "\n",
    "\n",
    "\n"
   ]
  },
  {
   "cell_type": "code",
   "execution_count": 1,
   "id": "8f58bc69",
   "metadata": {},
   "outputs": [
    {
     "name": "stderr",
     "output_type": "stream",
     "text": [
      "/Users/polya/anaconda3/lib/python3.11/site-packages/pandas/core/arrays/masked.py:60: UserWarning: Pandas requires version '1.3.6' or newer of 'bottleneck' (version '1.3.5' currently installed).\n",
      "  from pandas.core import (\n",
      "/Users/polya/workshop/research-project/experiments/sustained.py:59: FutureWarning: The default of observed=False is deprecated and will be changed to True in a future version of pandas. Pass observed=False to retain current behavior or observed=True to adopt the future default and silence this warning.\n",
      "  ex['y'] = ex.groupby('group')['frac_sub'].transform(lambda x: x / x.max())\n",
      "/Users/polya/workshop/research-project/models/sustained.py:22: FutureWarning: The default of observed=False is deprecated and will be changed to True in a future version of pandas. Pass observed=False to retain current behavior or observed=True to adopt the future default and silence this warning.\n",
      "  .groupby(['group', 'time'], as_index=False)\n"
     ]
    }
   ],
   "source": [
    "import numpy as np\n",
    "import matplotlib.pyplot as plt\n",
    "import pandas as pd\n",
    "import itertools\n",
    "\n",
    "import models.ramp\n",
    "import models.transient\n",
    "import models.sustained\n",
    "\n",
    "import experiments.ramp\n",
    "import experiments.transient\n",
    "import experiments.sustained\n",
    "\n",
    "from model import Model\n",
    "from utils.utils import read_config, DATA_PATH, RESULTS_PATH, generate_uniform_dist_param\n",
    "\n",
    "all_models = [\n",
    "  models.ramp,\n",
    "  models.transient,\n",
    "  models.sustained\n",
    "]\n",
    "\n",
    "all_experiments = [\n",
    "  experiments.ramp,\n",
    "  experiments.transient,\n",
    "  experiments.sustained,\n",
    "]\n",
    "\n",
    "all = zip(all_models, all_experiments)\n",
    "\n",
    "param_len = len(models.ramp.param_list)\n",
    "for m in all_models: assert len(m.param_list) == param_len\n"
   ]
  },
  {
   "cell_type": "code",
   "execution_count": null,
   "id": "f75bdfc5",
   "metadata": {},
   "outputs": [
    {
     "name": "stdout",
     "output_type": "stream",
     "text": [
      "Loaded 20 parameters from /Users/polya/workshop/research-project/results/uniform.json\n"
     ]
    }
   ],
   "source": [
    "\n",
    "\n",
    "param_names = RESULTS_PATH / 'uniform.json'\n",
    "#param_names = 'Sustained_v1_22-10-2025_23:23:31_L-BFGS-B.json'\n",
    "default_parametrs = read_config(RESULTS_PATH / 'uniform.json', parameters=all_models[0].param_list)\n",
    "#for k in default_parametrs.keys(): assert default_parametrs[k] == read_back[k]\n"
   ]
  },
  {
   "cell_type": "code",
   "execution_count": null,
   "id": "626304d2",
   "metadata": {},
   "outputs": [],
   "source": [
    "# Main course\n",
    "\n",
    "#fix, ax = plt.subplots(4, 3)\n",
    "\n",
    "y0 = [0.05] * 5\n",
    "m = models.ramp\n",
    "\n",
    "for (model, experiment) in all:\n",
    "  df = model.df\n",
    "  lf = experiment.light_fn\n",
    "  param_list = model.param_list\n",
    "  states = model.nodes\n",
    "\n",
    "  # control: train model on its base data - if this looks bad, maybe there's a bug in the model/light_fn.\n",
    "  m = Model(\n",
    "    name = f'control_{model.__name__}',\n",
    "    parameters = param_list,\n",
    "    states = model.nodes,\n",
    "    model_definition = model.model_eqs,\n",
    "    t_func = experiment.light_fn,\n",
    "    t_dep = 'light'\n",
    "    )\n",
    "  m.fit(df, y0, parameters=param_names, )\n",
    "  m.save_results()\n",
    "\n",
    "\n",
    "\n",
    "\n",
    "\n",
    " \n"
   ]
  }
 ],
 "metadata": {
  "kernelspec": {
   "display_name": "Python 3 (ipykernel)",
   "language": "python",
   "name": "python3"
  },
  "language_info": {
   "codemirror_mode": {
    "name": "ipython",
    "version": 3
   },
   "file_extension": ".py",
   "mimetype": "text/x-python",
   "name": "python",
   "nbconvert_exporter": "python",
   "pygments_lexer": "ipython3",
   "version": "3.11.5"
  }
 },
 "nbformat": 4,
 "nbformat_minor": 5
}
